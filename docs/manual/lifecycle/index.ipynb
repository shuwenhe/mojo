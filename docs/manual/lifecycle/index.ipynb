{
  "cells": [
    {
      "cell_type": "raw",
      "metadata": {
        "vscode": {
          "languageId": "raw"
        }
      },
      "source": [
        "---\n",
        "title: Intro to value lifecycle\n",
        "sidebar_position: 1\n",
        "description: An introduction to the value lifecycle.\n",
        "---"
      ]
    },
    {
      "cell_type": "markdown",
      "metadata": {},
      "source": [
        "So far, we've explained how Mojo allows you to build high-performance code that\n",
        "is memory safe _without_ manually managing memory, using Mojo's [ownership\n",
        "model](/mojo/manual/values/ownership). However, Mojo is designed for\n",
        "[systems programming](https://en.wikipedia.org/wiki/Systems_programming), which\n",
        "often requires manual memory management for custom data types. So, Mojo lets\n",
        "you do that as you see fit. To be clear, Mojo has no reference counter and no\n",
        "garbage collector.\n",
        "\n",
        "Mojo also has no built-in data types with special privileges. All data types\n",
        "in the standard library (such as [`Bool`](/mojo/stdlib/builtin/bool/Bool),\n",
        "[`Int`](/mojo/stdlib/builtin/int/Int), and\n",
        "[`String`](/mojo/stdlib/collections/string/String)) are implemented as\n",
        "[structs](/mojo/manual/structs). You can actually write your own\n",
        "replacements for these types by using low-level primitives provided by\n",
        "[MLIR dialects](/mojo/notebooks/BoolMLIR).\n",
        "\n",
        "What's great about the Mojo language is that it provides you these low-level\n",
        "tools for systems programming, but within a framework that helps you build\n",
        "things that are safe and easy to use from higher-level programs. That is, you\n",
        "can get under the hood and write all the \"unsafe\" code you want, but as long as\n",
        "you do so in accordance with Mojo's [value\n",
        "semantics](/mojo/manual/values/value-semantics), the programmer instantiating\n",
        "your type/object doesn't need to think about memory management at all, and the\n",
        "behavior will be safe and predictable, thanks to [value\n",
        "ownership](/mojo/manual/values/ownership).\n",
        "\n",
        "In summary, it's the responsibility of the type author to manage the memory and\n",
        "resources for each value type, by implementing specific lifecycle methods, such\n",
        "as the constructor, copy constructor, move constructor, and destructor, as\n",
        "necessary. Mojo doesn't create any constructors by default, although it does\n",
        "add a trivial, no-op destructor for types that don't define their own.\n",
        "\n",
        "In the following pages, we'll explain exactly how to define these lifecycle\n",
        "methods in accordance with value semantics so your types play nicely with value\n",
        "ownership."
      ]
    },
    {
      "cell_type": "markdown",
      "metadata": {},
      "source": [
        "## Lifecycles and lifetimes\n",
        "\n",
        "First, let's clarify some terminology:\n",
        "\n",
        "- The \"lifecycle\" of a value is defined by various [dunder\n",
        "methods](/mojo/manual/structs#special-methods) in a struct.\n",
        "Each lifecycle event is handled by a different method,\n",
        "such as the constructor (`__init__()`), the destructor (`__del__()`), the copy\n",
        "constructor (`__copyinit__()`), and the move constructor (`__moveinit__()`).\n",
        "All values that are declared with the same type have the same lifecycle.\n",
        "\n",
        "- The \"lifetime\" of a value is defined by the span of time during \n",
        "program execution in which each value is considered valid. The life of a value \n",
        "begins when it is initialized (via `__init__()`, `__copyinit__()` or \n",
        "`__moveinit__()`) and ends when it is destroyed (`__del__()`), or consumed in\n",
        "some other way (for example, as part of a `__moveinit__()` call). \n",
        "\n",
        "No two values have the exact same life span, because every value is created and \n",
        "destroyed at a different point in time (even if the difference is imperceptible).\n",
        "\n",
        ":::note Lifetime type\n",
        "\n",
        "The concept of lifetimes is related to the `lifetime` type, a Mojo primitive\n",
        "used to track ownership. For most Mojo programming, you won't need to work with\n",
        "`lifetime` values directly. For information, see [Lifetimes and\n",
        "references](/mojo/manual/values/lifetimes).\n",
        "\n",
        ":::\n",
        "\n",
        "The life of a value in Mojo begins when a variable is initialized and continues\n",
        "up until the value is last used, at which point Mojo destroys it. Mojo destroys\n",
        "every value/object as soon as it's no longer used, using an “as soon as\n",
        "possible” (ASAP) destruction policy that runs after every sub-expression. The \n",
        "Mojo compiler takes care of releasing resources after last use when needed.\n",
        "\n",
        "As you might imagine, keeping track of a value's life can be difficult if a\n",
        "value is shared across functions many times during the life of a program.\n",
        "However, Mojo makes this predictable partly through its [value\n",
        "semantics](/mojo/manual/values/value-semantics) and [value\n",
        "ownership](/mojo/manual/values/ownership) (both prerequisite readings for\n",
        "the following sections). The final piece of the puzzle for lifetime management\n",
        "is the value lifecycle: every value (defined in a struct) needs to implement\n",
        "key lifecycle methods that define how a value is created and destroyed."
      ]
    }
  ],
  "metadata": {
    "kernelspec": {
      "display_name": "Mojo",
      "language": "mojo",
      "name": "mojo-jupyter-kernel"
    },
    "language_info": {
      "codemirror_mode": {
        "name": "mojo"
      },
      "file_extension": ".mojo",
      "mimetype": "text/x-mojo",
      "name": "mojo"
    },
    "orig_nbformat": 4
  },
  "nbformat": 4,
  "nbformat_minor": 2
}
